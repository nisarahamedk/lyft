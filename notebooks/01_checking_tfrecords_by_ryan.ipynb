{
  "nbformat": 4,
  "nbformat_minor": 0,
  "metadata": {
    "colab": {
      "name": "01_checking_tfrecords_by_ryan.ipynb",
      "provenance": [],
      "authorship_tag": "ABX9TyNU/H8MKWEgCbXiGT59rtnF",
      "include_colab_link": true
    },
    "kernelspec": {
      "name": "python3",
      "display_name": "Python 3"
    }
  },
  "cells": [
    {
      "cell_type": "markdown",
      "metadata": {
        "id": "view-in-github",
        "colab_type": "text"
      },
      "source": [
        "<a href=\"https://colab.research.google.com/github/nisarahamedk/lyft/blob/master/notebooks/01_checking_tfrecords_by_ryan.ipynb\" target=\"_parent\"><img src=\"https://colab.research.google.com/assets/colab-badge.svg\" alt=\"Open In Colab\"/></a>"
      ]
    },
    {
      "cell_type": "code",
      "metadata": {
        "id": "Ipt9IbjavI8D",
        "colab_type": "code",
        "colab": {}
      },
      "source": [
        "import tensorflow as tf"
      ],
      "execution_count": 1,
      "outputs": []
    },
    {
      "cell_type": "code",
      "metadata": {
        "id": "uGq48eEZvuw1",
        "colab_type": "code",
        "colab": {}
      },
      "source": [
        "gcs_path = \"gs://kds-af0a18d77b3228f9432999fd806f5334f228405d6c6c31640a1a1e7c\""
      ],
      "execution_count": 2,
      "outputs": []
    },
    {
      "cell_type": "code",
      "metadata": {
        "id": "0bFCBTyfw_KR",
        "colab_type": "code",
        "colab": {
          "base_uri": "https://localhost:8080/",
          "height": 101
        },
        "outputId": "9c866f02-8f4a-424a-fe4b-ac1d52fbf807"
      },
      "source": [
        "train_files = tf.io.gfile.glob(gcs_path + \"/training/training/*.*\")\n",
        "train_files[:5]"
      ],
      "execution_count": 3,
      "outputs": [
        {
          "output_type": "execute_result",
          "data": {
            "text/plain": [
              "['gs://kds-af0a18d77b3228f9432999fd806f5334f228405d6c6c31640a1a1e7c/training/training/shard_000.tfrecord',\n",
              " 'gs://kds-af0a18d77b3228f9432999fd806f5334f228405d6c6c31640a1a1e7c/training/training/shard_001.tfrecord',\n",
              " 'gs://kds-af0a18d77b3228f9432999fd806f5334f228405d6c6c31640a1a1e7c/training/training/shard_002.tfrecord',\n",
              " 'gs://kds-af0a18d77b3228f9432999fd806f5334f228405d6c6c31640a1a1e7c/training/training/shard_003.tfrecord',\n",
              " 'gs://kds-af0a18d77b3228f9432999fd806f5334f228405d6c6c31640a1a1e7c/training/training/shard_004.tfrecord']"
            ]
          },
          "metadata": {
            "tags": []
          },
          "execution_count": 3
        }
      ]
    },
    {
      "cell_type": "code",
      "metadata": {
        "id": "Di6jylgcxOrF",
        "colab_type": "code",
        "colab": {}
      },
      "source": [
        "dataset = tf.data.TFRecordDataset(train_files)"
      ],
      "execution_count": 4,
      "outputs": []
    },
    {
      "cell_type": "markdown",
      "metadata": {
        "id": "-Gk69DnnxYEn",
        "colab_type": "text"
      },
      "source": [
        "#### Checking the plain protobuf"
      ]
    },
    {
      "cell_type": "code",
      "metadata": {
        "id": "zKya6P9gxbGb",
        "colab_type": "code",
        "colab": {}
      },
      "source": [
        "for item in dataset.take(1):\n",
        "  example = tf.train.Example()\n",
        "  example.ParseFromString(item.numpy())\n",
        "  with open(\"example.txt\", \"w\") as f:\n",
        "    f.write(str(example))"
      ],
      "execution_count": 6,
      "outputs": []
    },
    {
      "cell_type": "code",
      "metadata": {
        "id": "rR9fxL_Vxfol",
        "colab_type": "code",
        "colab": {}
      },
      "source": [
        ""
      ],
      "execution_count": null,
      "outputs": []
    }
  ]
}