{
 "cells": [
  {
   "cell_type": "code",
   "execution_count": null,
   "metadata": {},
   "outputs": [
    {
     "name": "stdout",
     "output_type": "stream",
     "text": [
      "\u001b[33mWARNING: The directory '/home/nisarkavungal_gmx_com/.cache/pip' or its parent directory is not owned or is not writable by the current user. The cache has been disabled. Check the permissions and owner of that directory. If executing pip with sudo, you may want sudo's -H flag.\u001b[0m\n",
      "Collecting l5kit\n",
      "  Cloning https://github.com/nisarahamedk/l5kit.git to /tmp/pip-install-znk401lk/l5kit\n",
      "  Running command git clone -q https://github.com/nisarahamedk/l5kit.git /tmp/pip-install-znk401lk/l5kit\n",
      "  Installing build dependencies ... \u001b[?25ldone\n",
      "\u001b[?25h  Getting requirements to build wheel ... \u001b[?25ldone\n",
      "\u001b[?25h    Preparing wheel metadata ... \u001b[?25ldone\n",
      "\u001b[?25hCollecting torchvision<1.0.0,>=0.6.0\n",
      "  Downloading torchvision-0.7.0-cp37-cp37m-manylinux1_x86_64.whl (5.9 MB)\n",
      "\u001b[K     |████████████████████████████████| 5.9 MB 4.5 MB/s eta 0:00:01\n",
      "\u001b[?25hRequirement already satisfied, skipping upgrade: imageio in /usr/local/lib/python3.7/dist-packages (from l5kit) (2.8.0)\n",
      "Requirement already satisfied, skipping upgrade: setuptools in /usr/local/lib/python3.7/dist-packages (from l5kit) (47.3.1)\n",
      "Collecting torch<2.0.0,>=1.5.0\n",
      "  Downloading torch-1.6.0-cp37-cp37m-manylinux1_x86_64.whl (748.8 MB)\n",
      "\u001b[K     |████████████████████████████████| 748.8 MB 39.9 MB/s eta 0:00:01\n",
      "\u001b[?25hCollecting pymap3d\n",
      "  Downloading pymap3d-2.4.1.tar.gz (30 kB)\n",
      "  Installing build dependencies ... \u001b[?25ldone\n",
      "\u001b[?25h  Getting requirements to build wheel ... \u001b[?25ldone\n",
      "\u001b[?25h    Preparing wheel metadata ... \u001b[?25ldone\n",
      "\u001b[?25hCollecting zarr\n",
      "  Downloading zarr-2.4.0.tar.gz (3.3 MB)\n",
      "\u001b[K     |████████████████████████████████| 3.3 MB 85.8 MB/s eta 0:00:01\n",
      "\u001b[?25hRequirement already satisfied, skipping upgrade: pyyaml in /usr/lib/python3/dist-packages (from l5kit) (3.11)\n",
      "Requirement already satisfied, skipping upgrade: tqdm in /usr/local/lib/python3.7/dist-packages (from l5kit) (4.48.0)\n",
      "Requirement already satisfied, skipping upgrade: protobuf==3.12.2 in /usr/local/lib/python3.7/dist-packages (from l5kit) (3.12.2)\n",
      "Collecting opencv-contrib-python-headless\n",
      "  Downloading opencv_contrib_python_headless-4.4.0.42-cp37-cp37m-manylinux2014_x86_64.whl (42.8 MB)\n",
      "\u001b[K     |██▏                             | 2.9 MB 33.3 MB/s eta 0:00:02"
     ]
    }
   ],
   "source": [
    "!pip install --upgrade \"git+https://github.com/nisarahamedk/l5kit.git#egg=l5kit&subdirectory=l5kit\""
   ]
  },
  {
   "cell_type": "markdown",
   "metadata": {},
   "source": [
    "### Understanding the l5kit datasets"
   ]
  },
  {
   "cell_type": "code",
   "execution_count": 3,
   "metadata": {},
   "outputs": [],
   "source": [
    "import os\n",
    "\n",
    "from l5kit.configs import load_config_data # handle yaml config for data load, model params, etc.\n",
    "from l5kit.data import LocalDataManager # takes care of the data paths etc.\n",
    "from l5kit.data import ChunkedDataset # low level Zarr dataset interface."
   ]
  },
  {
   "cell_type": "markdown",
   "metadata": {},
   "source": [
    "Environment variable that l5kit uses to set the root path of dataset."
   ]
  },
  {
   "cell_type": "code",
   "execution_count": 4,
   "metadata": {},
   "outputs": [],
   "source": [
    "os.environ[\"L5KIT_DATA_FOLDER\"] = \"/home/nisarkavungal_gmx_com/lyft-data\""
   ]
  },
  {
   "cell_type": "markdown",
   "metadata": {},
   "source": [
    "a general config dict is user throughout the l5kit library"
   ]
  },
  {
   "cell_type": "code",
   "execution_count": 5,
   "metadata": {},
   "outputs": [],
   "source": [
    "cfg = {\n",
    "    'format_version': 4,\n",
    "    'model_params': {\n",
    "        'model_architecture': 'resnet50',\n",
    "        'history_num_frames': 0,\n",
    "        'history_step_size': 1,\n",
    "        'history_delta_time': 0.1,\n",
    "        'future_num_frames': 50,\n",
    "        'future_step_size': 1,\n",
    "        'future_delta_time': 0.1\n",
    "    },\n",
    "    'raster_params': {\n",
    "        'raster_size': [224, 224],\n",
    "        'pixel_size': [0.5, 0.5],\n",
    "        'ego_center': [0.25, 0.5],\n",
    "        'map_type': 'py_semantic',\n",
    "        'satellite_map_key': 'aerial_map/aerial_map.png',\n",
    "        'semantic_map_key': 'semantic_map/semantic_map.pb',\n",
    "        'dataset_meta_key': 'meta.json',\n",
    "        'filter_agents_threshold': 0.5\n",
    "    },\n",
    "    'val_data_loader': {\n",
    "        'key': 'scenes/sample.zarr',\n",
    "        'batch_size': 12,\n",
    "        'shuffle': False,\n",
    "        'num_workers': 16\n",
    "    }\n",
    "}"
   ]
  },
  {
   "cell_type": "code",
   "execution_count": 6,
   "metadata": {},
   "outputs": [],
   "source": [
    "# data manager just check if we have the required files in the system\n",
    "dm = LocalDataManager()\n",
    "train_zarr_path = dm.require(\"scenes/train.zarr\") # just check the file exist in the path"
   ]
  },
  {
   "cell_type": "code",
   "execution_count": 7,
   "metadata": {},
   "outputs": [
    {
     "data": {
      "text/plain": [
       "'/home/nisarkavungal_gmx_com/lyft-data/scenes/train.zarr'"
      ]
     },
     "execution_count": 7,
     "metadata": {},
     "output_type": "execute_result"
    }
   ],
   "source": [
    "train_zarr_path"
   ]
  },
  {
   "cell_type": "markdown",
   "metadata": {},
   "source": [
    "### ChunkedDataset"
   ]
  },
  {
   "cell_type": "markdown",
   "metadata": {},
   "source": [
    "`ChunkedDataset` is the low level l5kit dataset which just wraps the native Zarr dataset object with simple methods to handle the zarr files."
   ]
  },
  {
   "cell_type": "code",
   "execution_count": 8,
   "metadata": {},
   "outputs": [],
   "source": [
    "train_chunk = ChunkedDataset(train_zarr_path)"
   ]
  },
  {
   "cell_type": "code",
   "execution_count": 9,
   "metadata": {},
   "outputs": [],
   "source": [
    "train_chunk = train_chunk.open() # opens the zarr dataset from the disk. can do on the fly read write to the disk on zarr files"
   ]
  },
  {
   "cell_type": "code",
   "execution_count": 10,
   "metadata": {},
   "outputs": [
    {
     "name": "stdout",
     "output_type": "stream",
     "text": [
      "+------------+------------+------------+-----------------+----------------------+----------------------+----------------------+---------------------+\n",
      "| Num Scenes | Num Frames | Num Agents | Total Time (hr) | Avg Frames per Scene | Avg Agents per Frame | Avg Scene Time (sec) | Avg Frame frequency |\n",
      "+------------+------------+------------+-----------------+----------------------+----------------------+----------------------+---------------------+\n",
      "|   16265    |  4039527   | 320124624  |      112.19     |        248.36        |        79.25         |        24.83         |        10.00        |\n",
      "+------------+------------+------------+-----------------+----------------------+----------------------+----------------------+---------------------+\n"
     ]
    }
   ],
   "source": [
    "print(train_chunk)"
   ]
  },
  {
   "cell_type": "markdown",
   "metadata": {},
   "source": [
    "The actual Zarr dataset object accessed through the `root` attribute"
   ]
  },
  {
   "cell_type": "code",
   "execution_count": 11,
   "metadata": {},
   "outputs": [
    {
     "data": {
      "text/plain": [
       "<zarr.hierarchy.Group '/' read-only>"
      ]
     },
     "execution_count": 11,
     "metadata": {},
     "output_type": "execute_result"
    }
   ],
   "source": [
    "train_chunk.root"
   ]
  },
  {
   "cell_type": "markdown",
   "metadata": {},
   "source": [
    "However the `ChunkedDataset` provides attributes we can use to get access to the several components of the dataset such as    \n",
    "\n",
    "- #### scenes"
   ]
  },
  {
   "cell_type": "code",
   "execution_count": 12,
   "metadata": {},
   "outputs": [
    {
     "data": {
      "text/plain": [
       "<zarr.core.Array '/scenes' (16265,) [('frame_index_interval', '<i8', (2,)), ('host', '<U16'), ('start_time', '<i8'), ('end_time', '<i8')] read-only>"
      ]
     },
     "execution_count": 12,
     "metadata": {},
     "output_type": "execute_result"
    }
   ],
   "source": [
    "train_chunk.scenes"
   ]
  },
  {
   "cell_type": "markdown",
   "metadata": {},
   "source": [
    "There are 16256 scenes. the field `frame_index_interval` gives us range index to the frames sub array for each scenes."
   ]
  },
  {
   "cell_type": "markdown",
   "metadata": {},
   "source": [
    "Can do row-wise indexing, scene 0 details"
   ]
  },
  {
   "cell_type": "code",
   "execution_count": 13,
   "metadata": {},
   "outputs": [
    {
     "data": {
      "text/plain": [
       "array([([   0,  248], 'host-a013', 1572643684617362176, 1572643709617362176),\n",
       "       ([ 248,  497], 'host-a013', 1572643749559148288, 1572643774559148288),\n",
       "       ([ 497,  746], 'host-a013', 1572643774559148288, 1572643799559148288),\n",
       "       ([ 746,  995], 'host-a013', 1572643799559148288, 1572643824559148288),\n",
       "       ([ 995, 1244], 'host-a013', 1572643824559148288, 1572643849559148288)],\n",
       "      dtype=[('frame_index_interval', '<i8', (2,)), ('host', '<U16'), ('start_time', '<i8'), ('end_time', '<i8')])"
      ]
     },
     "execution_count": 13,
     "metadata": {},
     "output_type": "execute_result"
    }
   ],
   "source": [
    "train_chunk.scenes[0:5]"
   ]
  },
  {
   "cell_type": "markdown",
   "metadata": {},
   "source": [
    "Can also access columnwise. frame interval of all the scenes"
   ]
  },
  {
   "cell_type": "code",
   "execution_count": 14,
   "metadata": {},
   "outputs": [
    {
     "data": {
      "text/plain": [
       "array([[      0,     248],\n",
       "       [    248,     497],\n",
       "       [    497,     746],\n",
       "       ...,\n",
       "       [4038783, 4039031],\n",
       "       [4039031, 4039279],\n",
       "       [4039279, 4039527]])"
      ]
     },
     "execution_count": 14,
     "metadata": {},
     "output_type": "execute_result"
    }
   ],
   "source": [
    "train_chunk.scenes[\"frame_index_interval\"]"
   ]
  },
  {
   "cell_type": "markdown",
   "metadata": {},
   "source": [
    "- ####  frames within each scenes"
   ]
  },
  {
   "cell_type": "code",
   "execution_count": 15,
   "metadata": {},
   "outputs": [
    {
     "data": {
      "text/plain": [
       "<zarr.core.Array '/frames' (4039527,) [('timestamp', '<i8'), ('agent_index_interval', '<i8', (2,)), ('traffic_light_faces_index_interval', '<i8', (2,)), ('ego_translation', '<f8', (3,)), ('ego_rotation', '<f8', (3, 3))] read-only>"
      ]
     },
     "execution_count": 15,
     "metadata": {},
     "output_type": "execute_result"
    }
   ],
   "source": [
    "train_chunk.frames"
   ]
  },
  {
   "cell_type": "code",
   "execution_count": 16,
   "metadata": {},
   "outputs": [
    {
     "data": {
      "text/plain": [
       "array([(1572643684801892606, [  0,  38], [0, 0], [  680.61975098, -2183.32763672,   288.5411377 ], [[ 5.46733141e-01, -8.37294340e-01,  4.59085545e-03], [ 8.35287392e-01,  5.45025647e-01, -7.24018440e-02], [ 5.81195243e-02,  4.34191711e-02,  9.97364998e-01]]),\n",
       "       (1572643684901714926, [ 38,  85], [0, 0], [  681.18560791, -2182.42236328,   288.60812378], [[ 5.47081292e-01, -8.37059736e-01,  5.74750407e-03], [ 8.35097909e-01,  5.45301139e-01, -7.25131184e-02], [ 5.75636923e-02,  4.44702990e-02,  9.97350872e-01]]),\n",
       "       (1572643685001499246, [ 85, 142], [0, 0], [  681.76470947, -2181.52270508,   288.68093872], [[ 5.47960341e-01, -8.36487472e-01,  5.30776521e-03], [ 8.34573150e-01,  5.46253383e-01, -7.13788122e-02], [ 5.68080992e-02,  4.35424782e-02,  9.97435153e-01]]),\n",
       "       (1572643685101394026, [142, 200], [0, 0], [  682.34143066, -2180.62426758,   288.75592041], [[ 5.49122512e-01, -8.35734189e-01,  3.57811200e-03], [ 8.33713591e-01,  5.47486722e-01, -7.19717517e-02], [ 5.81902862e-02,  4.25044298e-02,  9.97400224e-01]]),\n",
       "       (1572643685201412346, [200, 254], [0, 0], [  682.9197998 , -2179.73046875,   288.82739258], [[ 5.50421596e-01, -8.34886849e-01, -7.52903798e-05], [ 8.32540274e-01,  5.48881292e-01, -7.48735890e-02], [ 6.25523031e-02,  4.11493592e-02,  9.97193038e-01]])],\n",
       "      dtype=[('timestamp', '<i8'), ('agent_index_interval', '<i8', (2,)), ('traffic_light_faces_index_interval', '<i8', (2,)), ('ego_translation', '<f8', (3,)), ('ego_rotation', '<f8', (3, 3))])"
      ]
     },
     "execution_count": 16,
     "metadata": {},
     "output_type": "execute_result"
    }
   ],
   "source": [
    "train_chunk.frames[0:5]"
   ]
  },
  {
   "cell_type": "markdown",
   "metadata": {},
   "source": [
    "Using `frame_index_interval` for a scene to get the frames of that particular scene"
   ]
  },
  {
   "cell_type": "code",
   "execution_count": 17,
   "metadata": {},
   "outputs": [
    {
     "name": "stdout",
     "output_type": "stream",
     "text": [
      "slice(0, 248, None)\n"
     ]
    },
    {
     "data": {
      "text/plain": [
       "248"
      ]
     },
     "execution_count": 17,
     "metadata": {},
     "output_type": "execute_result"
    }
   ],
   "source": [
    "scene_idx = 0\n",
    "frame_slice = slice(*train_chunk.scenes[\"frame_index_interval\"][scene_idx])\n",
    "print(frame_slice)\n",
    "len(train_chunk.frames[frame_slice])"
   ]
  },
  {
   "cell_type": "markdown",
   "metadata": {},
   "source": [
    "- #### agents within each frame"
   ]
  },
  {
   "cell_type": "code",
   "execution_count": 18,
   "metadata": {},
   "outputs": [
    {
     "name": "stdout",
     "output_type": "stream",
     "text": [
      "Agents: <zarr.core.Array '/agents' (320124624,) [('centroid', '<f8', (2,)), ('extent', '<f4', (3,)), ('yaw', '<f4'), ('velocity', '<f4', (2,)), ('track_id', '<u8'), ('label_probabilities', '<f4', (17,))] read-only>\n"
     ]
    }
   ],
   "source": [
    "print(f\"Agents: {train_chunk.agents}\")"
   ]
  },
  {
   "cell_type": "code",
   "execution_count": 19,
   "metadata": {},
   "outputs": [
    {
     "data": {
      "text/plain": [
       "array([ 1,  2,  3,  4,  5,  6,  7,  8,  9, 10, 11, 12, 13, 14, 15, 16, 17,\n",
       "       18, 19, 20, 21, 22, 23, 24, 25, 26, 27, 28, 29, 30, 31, 32, 33, 34,\n",
       "       35, 36, 37, 38,  1,  2,  3,  4,  5,  6,  7,  8,  9, 10, 11, 12],\n",
       "      dtype=uint64)"
      ]
     },
     "execution_count": 19,
     "metadata": {},
     "output_type": "execute_result"
    }
   ],
   "source": [
    "train_chunk.agents[0:50][\"track_id\"]"
   ]
  },
  {
   "cell_type": "markdown",
   "metadata": {},
   "source": [
    "In summary, the dataset is arranged in a way that,  \n",
    "\n",
    "- There are a bunch of scenes in the scene sub array\n",
    "- Each scene has a set of frames (248 frames), which is in the frames subarray\n",
    "- Each frame has a certain number of agents in it. which is given the agent_index_interval\n",
    "- and for each agent in a frame we have its position, track_id, type of agent etc."
   ]
  },
  {
   "cell_type": "markdown",
   "metadata": {},
   "source": [
    "### Looking at a single scene - Scene 0"
   ]
  },
  {
   "cell_type": "code",
   "execution_count": 20,
   "metadata": {},
   "outputs": [
    {
     "data": {
      "text/plain": [
       "([  0, 248], 'host-a013', 1572643684617362176, 1572643709617362176)"
      ]
     },
     "execution_count": 20,
     "metadata": {},
     "output_type": "execute_result"
    }
   ],
   "source": [
    "train_chunk.scenes[0]"
   ]
  },
  {
   "cell_type": "markdown",
   "metadata": {},
   "source": [
    "We know from above that, \n",
    "\n",
    "- The scene has 249 frames.\n",
    "- and we can index to the frame sub array [0:248] to get the frames"
   ]
  },
  {
   "cell_type": "markdown",
   "metadata": {},
   "source": [
    "#### frame 0"
   ]
  },
  {
   "cell_type": "markdown",
   "metadata": {},
   "source": [
    "Lets look at the starting frame of the scene, that is frame 0, we can get that by indexing to the frames array with index 0"
   ]
  },
  {
   "cell_type": "code",
   "execution_count": 21,
   "metadata": {},
   "outputs": [
    {
     "data": {
      "text/plain": [
       "(1572643684801892606, [ 0, 38], [0, 0], [  680.61975098, -2183.32763672,   288.5411377 ], [[ 0.54673314, -0.83729434,  0.00459086], [ 0.83528739,  0.54502565, -0.07240184], [ 0.05811952,  0.04341917,  0.997365  ]])"
      ]
     },
     "execution_count": 21,
     "metadata": {},
     "output_type": "execute_result"
    }
   ],
   "source": [
    "train_chunk.frames[0]"
   ]
  },
  {
   "cell_type": "markdown",
   "metadata": {},
   "source": [
    "Now we know that (looking at the second field), that this frame has 39 agents in it. [0:38], inorder to gets the positions of those agents in the frame. we need to look in the agents array."
   ]
  },
  {
   "cell_type": "markdown",
   "metadata": {},
   "source": [
    "Lets look at one of the agent's information"
   ]
  },
  {
   "cell_type": "code",
   "execution_count": 22,
   "metadata": {},
   "outputs": [
    {
     "data": {
      "text/plain": [
       "([  665.03424072, -2207.51220703], [4.3913283, 1.8138304, 1.5909758], 1.0166751, [0., 0.], 1, [0., 0., 0., 1., 0., 0., 0., 0., 0., 0., 0., 0., 0., 0., 0., 0., 0.])"
      ]
     },
     "execution_count": 22,
     "metadata": {},
     "output_type": "execute_result"
    }
   ],
   "source": [
    "train_chunk.agents[0] # the first agent of the first frame of the first scene"
   ]
  },
  {
   "cell_type": "markdown",
   "metadata": {},
   "source": [
    "Here we go, we have the centroid, extant(length-like), yaw (rotation) etc. all the information needed to place that agent on to the frame"
   ]
  },
  {
   "cell_type": "markdown",
   "metadata": {},
   "source": [
    "Now lets look at the next frame - frame 1"
   ]
  },
  {
   "cell_type": "markdown",
   "metadata": {},
   "source": [
    "#### frame 1"
   ]
  },
  {
   "cell_type": "code",
   "execution_count": 23,
   "metadata": {},
   "outputs": [
    {
     "data": {
      "text/plain": [
       "(1572643684901714926, [38, 85], [0, 0], [  681.18560791, -2182.42236328,   288.60812378], [[ 0.54708129, -0.83705974,  0.0057475 ], [ 0.83509791,  0.54530114, -0.07251312], [ 0.05756369,  0.0444703 ,  0.99735087]])"
      ]
     },
     "execution_count": 23,
     "metadata": {},
     "output_type": "execute_result"
    }
   ],
   "source": [
    "train_chunk.frames[1]"
   ]
  },
  {
   "cell_type": "code",
   "execution_count": 24,
   "metadata": {},
   "outputs": [
    {
     "data": {
      "text/plain": [
       "47"
      ]
     },
     "execution_count": 24,
     "metadata": {},
     "output_type": "execute_result"
    }
   ],
   "source": [
    "85-38"
   ]
  },
  {
   "cell_type": "markdown",
   "metadata": {},
   "source": [
    "This frame has in total 47 agents on it. So more agents are visible in this frame than in frame 0"
   ]
  },
  {
   "cell_type": "markdown",
   "metadata": {},
   "source": [
    "To look at one of the agent, we just simply index to the agents array"
   ]
  },
  {
   "cell_type": "code",
   "execution_count": 25,
   "metadata": {},
   "outputs": [
    {
     "data": {
      "text/plain": [
       "([  717.61236572, -2174.77197266], [2.8158894 , 0.19811006, 1.030693  ], -0.7868708, [0., 0.], 2, [0., 0., 0., 1., 0., 0., 0., 0., 0., 0., 0., 0., 0., 0., 0., 0., 0.])"
      ]
     },
     "execution_count": 25,
     "metadata": {},
     "output_type": "execute_result"
    }
   ],
   "source": [
    "train_chunk.agents[39]"
   ]
  },
  {
   "cell_type": "markdown",
   "metadata": {},
   "source": [
    "Now how do we track the same agent position from one frame to another?"
   ]
  },
  {
   "cell_type": "markdown",
   "metadata": {},
   "source": [
    "Using track_id"
   ]
  },
  {
   "cell_type": "markdown",
   "metadata": {},
   "source": [
    "We know that agents [0:38] are in frame 0"
   ]
  },
  {
   "cell_type": "code",
   "execution_count": 26,
   "metadata": {},
   "outputs": [
    {
     "data": {
      "text/plain": [
       "array([ 1,  2,  3,  4,  5,  6,  7,  8,  9, 10, 11, 12, 13, 14, 15, 16, 17,\n",
       "       18, 19, 20, 21, 22, 23, 24, 25, 26, 27, 28, 29, 30, 31, 32, 33, 34,\n",
       "       35, 36, 37, 38], dtype=uint64)"
      ]
     },
     "execution_count": 26,
     "metadata": {},
     "output_type": "execute_result"
    }
   ],
   "source": [
    "train_chunk.agents[0:38][\"track_id\"]"
   ]
  },
  {
   "cell_type": "markdown",
   "metadata": {},
   "source": [
    "and agents [38:85] in frame 1"
   ]
  },
  {
   "cell_type": "code",
   "execution_count": 27,
   "metadata": {},
   "outputs": [
    {
     "data": {
      "text/plain": [
       "array([ 1,  2,  3,  4,  5,  6,  7,  8,  9, 10, 11, 12, 13, 14, 15, 16, 17,\n",
       "       18, 19, 20, 21, 22, 23, 24, 25, 26, 27, 28, 29, 31, 32, 33, 34, 35,\n",
       "       36, 37, 38, 39, 40, 41, 42, 43, 44, 45, 46, 47, 48], dtype=uint64)"
      ]
     },
     "execution_count": 27,
     "metadata": {},
     "output_type": "execute_result"
    }
   ],
   "source": [
    "train_chunk.agents[38:85][\"track_id\"]"
   ]
  },
  {
   "cell_type": "markdown",
   "metadata": {},
   "source": [
    "Using `track_id` we can track the position of an agent from one frame to another in a scene.  \n",
    "\n",
    "Here agents[0] is the position of agent id 1 in frame 0. and  \n",
    "agents[38] is the position of the agent id 1 in frame 1."
   ]
  },
  {
   "cell_type": "markdown",
   "metadata": {},
   "source": [
    "#### Rasterizer to visualize the scenes"
   ]
  },
  {
   "cell_type": "markdown",
   "metadata": {},
   "source": [
    "Rasterization is basically building an image of a frame.  \n",
    "\n",
    "For a particular frame, we know the agents in it. their positions, yaw, every detail.  \n",
    "\n",
    "The rasterizer just put those agents in an image of choice.  \n",
    "\n",
    "- Either in a Semantic Map, or\n",
    "\n",
    "- in a Satellite Map.\n",
    "   - The complete satellite map is pre built. and the rasterizer just snips that map image and put agents on it and return."
   ]
  },
  {
   "cell_type": "code",
   "execution_count": 28,
   "metadata": {},
   "outputs": [],
   "source": [
    "from l5kit.rasterization import build_rasterizer"
   ]
  },
  {
   "cell_type": "markdown",
   "metadata": {},
   "source": [
    "Rasterizer takes in the cfg dict and the local data manager instance (which just holds the path to zarr)"
   ]
  },
  {
   "cell_type": "code",
   "execution_count": 29,
   "metadata": {},
   "outputs": [],
   "source": [
    "## Two types of rasterizer -> \n",
    "\n",
    "# 1. Semantic (simple birds eye view)\n",
    "cfg[\"raster_params\"][\"map_type\"] = \"py_semantic\"\n",
    "raster_sem = build_rasterizer(cfg, dm)\n",
    "\n",
    "# 2. Satellite (more detailed)\n",
    "cfg[\"raster_params\"][\"map_type\"] = \"py_satellite\"\n",
    "raster_sat = build_rasterizer(cfg, dm)"
   ]
  },
  {
   "cell_type": "code",
   "execution_count": 20,
   "metadata": {},
   "outputs": [
    {
     "data": {
      "text/plain": [
       "<l5kit.rasterization.sat_box_rasterizer.SatBoxRasterizer at 0x7f26dc5b60d0>"
      ]
     },
     "execution_count": 20,
     "metadata": {},
     "output_type": "execute_result"
    }
   ],
   "source": [
    "raster_sat"
   ]
  },
  {
   "cell_type": "markdown",
   "metadata": {},
   "source": [
    "### EgoDataset and AgentDataset"
   ]
  },
  {
   "cell_type": "markdown",
   "metadata": {},
   "source": [
    "Higher level Pytorch dataset that can be used for training"
   ]
  },
  {
   "cell_type": "code",
   "execution_count": 31,
   "metadata": {},
   "outputs": [],
   "source": [
    "from l5kit.dataset import AgentDataset"
   ]
  },
  {
   "cell_type": "code",
   "execution_count": 32,
   "metadata": {},
   "outputs": [],
   "source": [
    "train_conf = {\n",
    "'format_version': 4,\n",
    "'model_params':{    # this params determines model arch and dataset input/output shapes and sizes.\n",
    "    'model_architecture': 'resnet50',\n",
    "    'history_num_frames': 10,\n",
    "    'history_step_size': 1,\n",
    "    'history_delta_time': 0.1,\n",
    "    'future_num_frames': 50,\n",
    "    'future_step_size': 1,\n",
    "    'future_delta_time': 0.1\n",
    "    },\n",
    "'raster_params': {\n",
    "    'raster_size': [512, 512],\n",
    "    'pixel_size': [0.5, 0.5],\n",
    "    'ego_center': [0.25, 0.5],\n",
    "    'map_type': 'py_satellite',\n",
    "    'satellite_map_key': 'aerial_map/aerial_map.png',\n",
    "    'semantic_map_key': 'semantic_map/semantic_map.pb',\n",
    "    'dataset_meta_key': 'meta.json',\n",
    "    'filter_agents_threshold': 0.5\n",
    "},\n",
    "'val_data_loader': {'key': 'scenes/sample.zarr',\n",
    "'batch_size': 12,\n",
    "'shuffle': False,\n",
    "  'num_workers': 16}}"
   ]
  },
  {
   "cell_type": "code",
   "execution_count": 33,
   "metadata": {},
   "outputs": [
    {
     "name": "stdout",
     "output_type": "stream",
     "text": [
      "+------------+------------+------------+-----------------+----------------------+----------------------+----------------------+---------------------+\n",
      "| Num Scenes | Num Frames | Num Agents | Total Time (hr) | Avg Frames per Scene | Avg Agents per Frame | Avg Scene Time (sec) | Avg Frame frequency |\n",
      "+------------+------------+------------+-----------------+----------------------+----------------------+----------------------+---------------------+\n",
      "|   16265    |  4039527   | 320124624  |      112.19     |        248.36        |        79.25         |        24.83         |        10.00        |\n",
      "+------------+------------+------------+-----------------+----------------------+----------------------+----------------------+---------------------+\n"
     ]
    }
   ],
   "source": [
    "agent_dataset = AgentDataset(train_conf, train_chunk, raster_sat)\n",
    "print(agent_dataset)"
   ]
  },
  {
   "cell_type": "code",
   "execution_count": 34,
   "metadata": {},
   "outputs": [
    {
     "data": {
      "text/plain": [
       "22496709"
      ]
     },
     "execution_count": 34,
     "metadata": {},
     "output_type": "execute_result"
    }
   ],
   "source": [
    "len(agent_dataset)"
   ]
  },
  {
   "cell_type": "code",
   "execution_count": 24,
   "metadata": {},
   "outputs": [
    {
     "data": {
      "text/plain": [
       "dict_keys(['image', 'target_positions', 'target_yaws', 'target_availabilities', 'history_positions', 'history_yaws', 'history_availabilities', 'world_to_image', 'track_id', 'timestamp', 'centroid', 'yaw', 'extent'])"
      ]
     },
     "execution_count": 24,
     "metadata": {},
     "output_type": "execute_result"
    }
   ],
   "source": [
    "# single data object\n",
    "frame_data = agent_dataset[101]\n",
    "frame_data.keys()"
   ]
  },
  {
   "cell_type": "code",
   "execution_count": 25,
   "metadata": {},
   "outputs": [
    {
     "name": "stdout",
     "output_type": "stream",
     "text": [
      "(5, 224, 224)\n"
     ]
    }
   ],
   "source": [
    "# image within that data object\n",
    "print(frame_data[\"image\"].shape)\n",
    "frame_img = agent_dataset.rasterizer.to_rgb(frame_data[\"image\"].transpose(1, 2, 0))"
   ]
  },
  {
   "cell_type": "code",
   "execution_count": 26,
   "metadata": {},
   "outputs": [
    {
     "data": {
      "text/plain": [
       "<matplotlib.image.AxesImage at 0x7f25e6a0aa30>"
      ]
     },
     "execution_count": 26,
     "metadata": {},
     "output_type": "execute_result"
    },
    {
     "data": {
      "image/png": "[encoded data removed]",
      "text/plain": [
       "<Figure size 432x288 with 1 Axes>"
      ]
     },
     "metadata": {
      "needs_background": "light"
     },
     "output_type": "display_data"
    }
   ],
   "source": [
    "%matplotlib inline\n",
    "import matplotlib.pyplot as plt\n",
    "\n",
    "plt.imshow(frame_img)"
   ]
  },
  {
   "cell_type": "code",
   "execution_count": null,
   "metadata": {},
   "outputs": [],
   "source": []
  }
 ],
 "metadata": {
  "kernelspec": {
   "display_name": "lyft",
   "language": "python",
   "name": "lyft"
  },
  "language_info": {
   "codemirror_mode": {
    "name": "ipython",
    "version": 3
   },
   "file_extension": ".py",
   "mimetype": "text/x-python",
   "name": "python",
   "nbconvert_exporter": "python",
   "pygments_lexer": "ipython3",
   "version": "3.8.5"
  }
 },
 "nbformat": 4,
 "nbformat_minor": 4
}
