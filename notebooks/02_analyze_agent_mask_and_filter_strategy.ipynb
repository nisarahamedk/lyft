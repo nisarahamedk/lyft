{
 "cells": [
  {
   "cell_type": "markdown",
   "metadata": {},
   "source": [
    "## Analyzing the agent filtering and masking strategy"
   ]
  },
  {
   "cell_type": "code",
   "execution_count": 1,
   "metadata": {},
   "outputs": [],
   "source": [
    "import os\n",
    "import debugpy\n",
    "\n",
    "debugpy.listen(5678)\n",
    "\n",
    "from l5kit.data import ChunkedDataset, LocalDataManager"
   ]
  },
  {
   "cell_type": "code",
   "execution_count": 2,
   "metadata": {},
   "outputs": [],
   "source": [
    "os.environ[\"L5KIT_DATA_FOLDER\"] = \"/home/nisarkavungal_gmx_com/lyft-data\""
   ]
  },
  {
   "cell_type": "code",
   "execution_count": 3,
   "metadata": {},
   "outputs": [
    {
     "output_type": "execute_result",
     "data": {
      "text/plain": "'/home/nisarkavungal_gmx_com/lyft-data/scenes/train.zarr'"
     },
     "metadata": {},
     "execution_count": 3
    }
   ],
   "source": [
    "dm = LocalDataManager()\n",
    "train_zarr_path = dm.require(\"scenes/train.zarr\")\n",
    "train_zarr_path"
   ]
  },
  {
   "cell_type": "code",
   "execution_count": 4,
   "metadata": {},
   "outputs": [],
   "source": [
    "train_chunked_ds = ChunkedDataset(train_zarr_path)\n",
    "train_chunked_ds = train_chunked_ds.open()"
   ]
  },
  {
   "cell_type": "code",
   "execution_count": 5,
   "metadata": {},
   "outputs": [],
   "source": [
    "train_conf = {\n",
    "'format_version': 4,\n",
    "'model_params':{    # this params determines model arch and dataset input/output shapes and sizes.\n",
    "    'model_architecture': 'resnet50',\n",
    "    'history_num_frames': 10, # how many frames history you need when you get an item from the dataset\n",
    "    'history_step_size': 1,\n",
    "    'history_delta_time': 0.1,\n",
    "    'future_num_frames': 50, # how many future frames should be, our target comes from this, we need to predict 50 frames to the future\n",
    "    'future_step_size': 1,\n",
    "    'future_delta_time': 0.1\n",
    "    },\n",
    "'raster_params': {\n",
    "    'raster_size': [512, 512], # image size of the frames.\n",
    "    'pixel_size': [0.5, 0.5], # each pixel corresponding how many meters on the map\n",
    "    'ego_center': [0.25, 0.5], # adjust the location of the agent in question in the map, [0.5,0.5] - agent at the center\n",
    "    'map_type': 'py_satellite', # satellite image or semantic image\n",
    "    'satellite_map_key': 'aerial_map/aerial_map.png', # the full arial map of the region\n",
    "    'semantic_map_key': 'semantic_map/semantic_map.pb', # full semantic map of the region\n",
    "    'dataset_meta_key': 'meta.json',\n",
    "    'filter_agents_threshold': 0.5 # in a frame the agents are labelled with a probabilities of their classes. here we say to ignore all agents with <0.5 prob\n",
    "    },\n",
    "'val_data_loader': {\n",
    "    'key': 'scenes/sample.zarr',\n",
    "    'batch_size': 12,\n",
    "    'shuffle': False,\n",
    "    'num_workers': 16\n",
    "    }\n",
    "}"
   ]
  },
  {
   "cell_type": "code",
   "execution_count": 6,
   "metadata": {},
   "outputs": [],
   "source": [
    "from l5kit.rasterization import build_rasterizer"
   ]
  },
  {
   "cell_type": "code",
   "execution_count": 10,
   "metadata": {},
   "outputs": [],
   "source": [
    "debugpy.breakpoint()\n",
    "raster_sat = build_rasterizer(train_conf, dm)"
   ]
  },
  {
   "cell_type": "code",
   "execution_count": 8,
   "metadata": {},
   "outputs": [],
   "source": [
    "from l5kit.dataset import AgentDataset"
   ]
  },
  {
   "cell_type": "code",
   "execution_count": 9,
   "metadata": {},
   "outputs": [],
   "source": [
    "agent_ds = AgentDataset(train_conf, train_chunked_ds, raster_sat)"
   ]
  },
  {
   "cell_type": "markdown",
   "metadata": {},
   "source": [
    "Digging inside the `get_valid_agents` method in `/home/nisarkavungal_gmx_com/l5kit/l5kit/l5kit/dataset/select_agents.py`"
   ]
  },
  {
   "cell_type": "markdown",
   "metadata": {},
   "source": [
    "Lets assume we are going to filter the first scene. that is frame index 0-248"
   ]
  },
  {
   "cell_type": "code",
   "execution_count": 10,
   "metadata": {},
   "outputs": [],
   "source": [
    "frames_range = (0, 248)\n",
    "dataset = train_chunked_ds\n",
    "th_agent_filter_probability_threshold = 0.5\n",
    "th_yaw_degree = 30\n",
    "th_extent_ratio = 1.1\n",
    "th_distance_av = 50"
   ]
  },
  {
   "cell_type": "markdown",
   "metadata": {},
   "source": [
    "Extracting the frames"
   ]
  },
  {
   "cell_type": "code",
   "execution_count": 11,
   "metadata": {},
   "outputs": [],
   "source": [
    "frames = dataset.frames[slice(*frames_range)]"
   ]
  },
  {
   "cell_type": "code",
   "execution_count": 12,
   "metadata": {},
   "outputs": [
    {
     "output_type": "execute_result",
     "data": {
      "text/plain": "(1572643684801892606, [ 0, 38], [0, 0], [  680.61975098, -2183.32763672,   288.5411377 ], [[ 0.54673314, -0.83729434,  0.00459086], [ 0.83528739,  0.54502565, -0.07240184], [ 0.05811952,  0.04341917,  0.997365  ]])"
     },
     "metadata": {},
     "execution_count": 12
    }
   ],
   "source": [
    "frames[0]"
   ]
  },
  {
   "cell_type": "code",
   "execution_count": 13,
   "metadata": {},
   "outputs": [
    {
     "output_type": "execute_result",
     "data": {
      "text/plain": "0"
     },
     "metadata": {},
     "execution_count": 13
    }
   ],
   "source": [
    "agents_range_start = frames[0][\"agent_index_interval\"][0] # 1st frame, 1st value of the interval tuple\n",
    "agents_range_start"
   ]
  },
  {
   "cell_type": "code",
   "execution_count": 14,
   "metadata": {},
   "outputs": [
    {
     "output_type": "execute_result",
     "data": {
      "text/plain": "21309"
     },
     "metadata": {},
     "execution_count": 14
    }
   ],
   "source": [
    "agents_range_end = frames[-1][\"agent_index_interval\"][-1] # last frame, last value of the interval tuple\n",
    "agents_range_end"
   ]
  },
  {
   "cell_type": "markdown",
   "metadata": {},
   "source": [
    "Extracting the agent details in the scene"
   ]
  },
  {
   "cell_type": "code",
   "execution_count": 15,
   "metadata": {},
   "outputs": [
    {
     "output_type": "execute_result",
     "data": {
      "text/plain": "21309"
     },
     "metadata": {},
     "execution_count": 15
    }
   ],
   "source": [
    "agents = dataset.agents[agents_range_start: agents_range_end]\n",
    "len(agents)"
   ]
  },
  {
   "cell_type": "code",
   "execution_count": 16,
   "metadata": {},
   "outputs": [],
   "source": [
    "frames[\"agent_index_interval\"] -= agents_range_start # set index to start from 0 "
   ]
  },
  {
   "cell_type": "markdown",
   "metadata": {},
   "source": [
    "#### Starting the filtering"
   ]
  },
  {
   "cell_type": "code",
   "execution_count": 17,
   "metadata": {},
   "outputs": [],
   "source": [
    "from collections import defaultdict, Counter\n",
    "import numpy as np"
   ]
  },
  {
   "cell_type": "code",
   "execution_count": 18,
   "metadata": {},
   "outputs": [],
   "source": [
    "agents_dict = defaultdict(list)"
   ]
  },
  {
   "cell_type": "code",
   "execution_count": 19,
   "metadata": {},
   "outputs": [
    {
     "output_type": "execute_result",
     "data": {
      "text/plain": "(21309, 2)"
     },
     "metadata": {},
     "execution_count": 19
    }
   ],
   "source": [
    "# for every agent -> (available_past_frame, available_future_frame)\n",
    "agents_mask = np.zeros((len(agents), 2), dtype=np.uint32)\n",
    "agents_mask.shape"
   ]
  },
  {
   "cell_type": "code",
   "execution_count": 20,
   "metadata": {},
   "outputs": [],
   "source": [
    "report = Counter()"
   ]
  },
  {
   "cell_type": "markdown",
   "metadata": {},
   "source": [
    "##### First stage of filtering"
   ]
  },
  {
   "cell_type": "markdown",
   "metadata": {},
   "source": [
    "Based on the `label_probabilites`"
   ]
  },
  {
   "cell_type": "code",
   "execution_count": 21,
   "metadata": {},
   "outputs": [],
   "source": [
    "from l5kit.dataset.select_agents import _get_label_filter"
   ]
  },
  {
   "cell_type": "code",
   "execution_count": 22,
   "metadata": {},
   "outputs": [
    {
     "output_type": "execute_result",
     "data": {
      "text/plain": "array([ True,  True,  True, ..., False, False, False])"
     },
     "metadata": {},
     "execution_count": 22
    }
   ],
   "source": [
    "of_interest = _get_label_filter(agents[\"label_probabilities\"], th_agent_filter_probability_threshold)\n",
    "of_interest"
   ]
  },
  {
   "cell_type": "markdown",
   "metadata": {},
   "source": [
    "The `_get_label_filter` basically filter out any agents whose detection probabilities are below the specified threshold.  \n",
    "\n",
    "Here the threshold specified is 0.5. therefore for example,  \n",
    "\n",
    "1st agent details is preserved"
   ]
  },
  {
   "cell_type": "code",
   "execution_count": 23,
   "metadata": {},
   "outputs": [
    {
     "output_type": "execute_result",
     "data": {
      "text/plain": "array([0., 0., 0., 1., 0., 0., 0., 0., 0., 0., 0., 0., 0., 0., 0., 0., 0.],\n      dtype=float32)"
     },
     "metadata": {},
     "execution_count": 23
    }
   ],
   "source": [
    "agents[0][\"label_probabilities\"]"
   ]
  },
  {
   "cell_type": "markdown",
   "metadata": {},
   "source": [
    "Because the detected probability is above 0.5"
   ]
  },
  {
   "cell_type": "markdown",
   "metadata": {},
   "source": [
    "last agent detail is masked "
   ]
  },
  {
   "cell_type": "code",
   "execution_count": 24,
   "metadata": {},
   "outputs": [
    {
     "output_type": "execute_result",
     "data": {
      "text/plain": "array([0., 1., 0., 0., 0., 0., 0., 0., 0., 0., 0., 0., 0., 0., 0., 0., 0.],\n      dtype=float32)"
     },
     "metadata": {},
     "execution_count": 24
    }
   ],
   "source": [
    "\n",
    "agents[-1][\"label_probabilities\"]"
   ]
  },
  {
   "cell_type": "markdown",
   "metadata": {},
   "source": [
    "> Because, by default l5kit cares about only certain # of agents. Here although a detected probability is 1, that type of agents is not relevant in l5kit"
   ]
  },
  {
   "cell_type": "code",
   "execution_count": 25,
   "metadata": {},
   "outputs": [
    {
     "output_type": "execute_result",
     "data": {
      "text/plain": "{'PERCEPTION_LABEL_NOT_SET': 0,\n 'PERCEPTION_LABEL_UNKNOWN': 1,\n 'PERCEPTION_LABEL_DONTCARE': 2,\n 'PERCEPTION_LABEL_CAR': 3,\n 'PERCEPTION_LABEL_VAN': 4,\n 'PERCEPTION_LABEL_TRAM': 5,\n 'PERCEPTION_LABEL_BUS': 6,\n 'PERCEPTION_LABEL_TRUCK': 7,\n 'PERCEPTION_LABEL_EMERGENCY_VEHICLE': 8,\n 'PERCEPTION_LABEL_OTHER_VEHICLE': 9,\n 'PERCEPTION_LABEL_BICYCLE': 10,\n 'PERCEPTION_LABEL_MOTORCYCLE': 11,\n 'PERCEPTION_LABEL_CYCLIST': 12,\n 'PERCEPTION_LABEL_MOTORCYCLIST': 13,\n 'PERCEPTION_LABEL_PEDESTRIAN': 14,\n 'PERCEPTION_LABEL_ANIMAL': 15,\n 'AVRESEARCH_LABEL_DONTCARE': 16}"
     },
     "metadata": {},
     "execution_count": 25
    }
   ],
   "source": [
    "from l5kit.data import PERCEPTION_LABEL_TO_INDEX\n",
    "PERCEPTION_LABEL_TO_INDEX"
   ]
  },
  {
   "cell_type": "markdown",
   "metadata": {},
   "source": [
    "These are the total number of label annotations"
   ]
  },
  {
   "cell_type": "code",
   "execution_count": 26,
   "metadata": {},
   "outputs": [
    {
     "output_type": "execute_result",
     "data": {
      "text/plain": "['PERCEPTION_LABEL_CAR',\n 'PERCEPTION_LABEL_VAN',\n 'PERCEPTION_LABEL_TRAM',\n 'PERCEPTION_LABEL_BUS',\n 'PERCEPTION_LABEL_TRUCK',\n 'PERCEPTION_LABEL_EMERGENCY_VEHICLE',\n 'PERCEPTION_LABEL_OTHER_VEHICLE',\n 'PERCEPTION_LABEL_BICYCLE',\n 'PERCEPTION_LABEL_MOTORCYCLE',\n 'PERCEPTION_LABEL_CYCLIST',\n 'PERCEPTION_LABEL_MOTORCYCLIST',\n 'PERCEPTION_LABEL_PEDESTRIAN',\n 'PERCEPTION_LABEL_ANIMAL']"
     },
     "metadata": {},
     "execution_count": 26
    }
   ],
   "source": [
    "from l5kit.data.filter import PERCEPTION_LABELS_TO_KEEP\n",
    "PERCEPTION_LABELS_TO_KEEP"
   ]
  },
  {
   "cell_type": "markdown",
   "metadata": {},
   "source": [
    "These are the valid l5kit agents. all other l5kit annotations are masked."
   ]
  },
  {
   "cell_type": "markdown",
   "metadata": {},
   "source": [
    "##### Second stage of filtering"
   ]
  },
  {
   "cell_type": "markdown",
   "metadata": {},
   "source": [
    "Going frame by frame"
   ]
  },
  {
   "cell_type": "code",
   "execution_count": 27,
   "metadata": {},
   "outputs": [],
   "source": [
    "frame_idx = 0"
   ]
  },
  {
   "cell_type": "code",
   "execution_count": 28,
   "metadata": {},
   "outputs": [],
   "source": [
    "frame = frames[frame_idx]"
   ]
  },
  {
   "cell_type": "code",
   "execution_count": 29,
   "metadata": {},
   "outputs": [],
   "source": [
    "agents_frame = agents[slice(*(frame[\"agent_index_interval\"]))] # agents in the frame"
   ]
  },
  {
   "cell_type": "code",
   "execution_count": 31,
   "metadata": {},
   "outputs": [
    {
     "output_type": "execute_result",
     "data": {
      "text/plain": "38"
     },
     "metadata": {},
     "execution_count": 31
    }
   ],
   "source": [
    "len(agents_frame)"
   ]
  },
  {
   "cell_type": "markdown",
   "metadata": {},
   "source": [
    "Going agent by agent in that frame"
   ]
  },
  {
   "cell_type": "code",
   "execution_count": 32,
   "metadata": {},
   "outputs": [],
   "source": [
    "global_agent_index = -1"
   ]
  },
  {
   "cell_type": "code",
   "execution_count": 33,
   "metadata": {},
   "outputs": [],
   "source": [
    "agent = agents_frame[0]"
   ]
  },
  {
   "cell_type": "code",
   "execution_count": 34,
   "metadata": {},
   "outputs": [],
   "source": [
    "global_agent_index += 1"
   ]
  },
  {
   "cell_type": "code",
   "execution_count": 35,
   "metadata": {},
   "outputs": [],
   "source": [
    "agents_dict[agent[\"track_id\"]].append((frame_idx, global_agent_index, agent))"
   ]
  },
  {
   "cell_type": "markdown",
   "metadata": {},
   "source": [
    "Since `track_id` is unique for an agent through out in a scene. this dictionary keep track of agent locations of a particular agent throughout the frames in the scene."
   ]
  },
  {
   "cell_type": "markdown",
   "metadata": {},
   "source": [
    "- First filter - Whether this agent is of_interest(calculated earlier based on the probs)"
   ]
  },
  {
   "cell_type": "code",
   "execution_count": 36,
   "metadata": {},
   "outputs": [
    {
     "output_type": "execute_result",
     "data": {
      "text/plain": "True"
     },
     "metadata": {},
     "execution_count": 36
    }
   ],
   "source": [
    "of_interest[global_agent_index]"
   ]
  },
  {
   "cell_type": "markdown",
   "metadata": {},
   "source": [
    "- Second Filter - Is the agent at a certain distance from the AV or higher?, if higher discard"
   ]
  },
  {
   "cell_type": "code",
   "execution_count": 37,
   "metadata": {},
   "outputs": [],
   "source": [
    "from l5kit.dataset.select_agents import in_av_distance"
   ]
  },
  {
   "cell_type": "code",
   "execution_count": 38,
   "metadata": {},
   "outputs": [
    {
     "output_type": "execute_result",
     "data": {
      "text/plain": "True"
     },
     "metadata": {},
     "execution_count": 38
    }
   ],
   "source": [
    "in_av_distance(frame[\"ego_translation\"], agent[\"centroid\"], 50) # 50 is the default distance threshold"
   ]
  },
  {
   "cell_type": "markdown",
   "metadata": {},
   "source": [
    "The agent is within the distance threshold from AV, so keep."
   ]
  },
  {
   "source": [
    "Above two filters are direct filters. Looking just at the current frame. also known as `POINT-WISE FILTERS`"
   ],
   "cell_type": "markdown",
   "metadata": {}
  },
  {
   "source": [
    "There are other filters that looks at two consecutive frames and decide to whether to mask this agent or not. also known as `COUPLE-WISE FILTERS`  \n",
    "\n",
    "These filters include  \n",
    "\n",
    "- Checking if the agent is there in consecutive frames"
   ],
   "cell_type": "markdown",
   "metadata": {}
  },
  {
   "cell_type": "code",
   "execution_count": null,
   "metadata": {},
   "outputs": [],
   "source": []
  }
 ],
 "metadata": {
  "kernelspec": {
   "display_name": "lyft",
   "language": "python",
   "name": "lyft"
  },
  "language_info": {
   "codemirror_mode": {
    "name": "ipython",
    "version": 3
   },
   "file_extension": ".py",
   "mimetype": "text/x-python",
   "name": "python",
   "nbconvert_exporter": "python",
   "pygments_lexer": "ipython3",
   "version": "3.8.5-final"
  }
 },
 "nbformat": 4,
 "nbformat_minor": 4
}